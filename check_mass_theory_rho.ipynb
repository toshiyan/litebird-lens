{
 "cells": [
  {
   "cell_type": "code",
   "execution_count": 1,
   "id": "b29751cc-d525-43f5-add2-9f00db1463ee",
   "metadata": {},
   "outputs": [],
   "source": [
    "import numpy as np, basic, cosmology, local, tools_multitracer as mass\n",
    "from matplotlib.pyplot import *"
   ]
  },
  {
   "cell_type": "code",
   "execution_count": 2,
   "id": "7923204d-8db1-428f-bf28-8c78aed84901",
   "metadata": {},
   "outputs": [],
   "source": [
    "lmax = 2048\n",
    "euc_zbin = 5\n",
    "lss_zbin = 5"
   ]
  },
  {
   "cell_type": "code",
   "execution_count": 3,
   "id": "035291a3-9ebe-43e3-85ed-3f50846968f6",
   "metadata": {},
   "outputs": [],
   "source": [
    "frac = mass.galaxy_distribution(np.linspace(0,50,1000),zbn={'euc':euc_zbin,'lss':lss_zbin})[3]"
   ]
  },
  {
   "cell_type": "code",
   "execution_count": 4,
   "id": "fe8e577c-4948-4f7f-b71c-4732f8785844",
   "metadata": {},
   "outputs": [],
   "source": [
    "l, camb_cls = mass.read_camb_cls(add_euc=euc_zbin,add_lss=lss_zbin)"
   ]
  },
  {
   "cell_type": "code",
   "execution_count": 5,
   "id": "61d159c8-3954-4974-bcad-61f1a6193d73",
   "metadata": {},
   "outputs": [
    {
     "name": "stdout",
     "output_type": "stream",
     "text": [
      "(12, 12, 2049)\n"
     ]
    }
   ],
   "source": [
    "# for cross spectrum\n",
    "vecs = {}\n",
    "ocov = {}\n",
    "Scov = mass.get_covariance_signal(lmax,add_cmb=['klb'],add_euc=euc_zbin,add_lss=lss_zbin)\n",
    "print(np.shape(Scov))"
   ]
  },
  {
   "cell_type": "code",
   "execution_count": 6,
   "id": "d2c76a8b-aabe-4e04-968a-0f84d8e64b46",
   "metadata": {},
   "outputs": [],
   "source": [
    "# CIB covariance\n",
    "scib = mass.get_covariance_signal(lmax,add_cmb=[],add_euc=0,add_lss=0)\n",
    "ncib = mass.get_covariance_noise(lmax,add_cmb=[],add_euc=0,add_lss=0)\n",
    "vecs['cib'] = Scov[0,1:2,:]\n",
    "ocov['cib'] = scib + ncib"
   ]
  },
  {
   "cell_type": "code",
   "execution_count": 7,
   "id": "be0c3db9-de9a-4368-98a1-cd87e65138ab",
   "metadata": {},
   "outputs": [],
   "source": [
    "# Euclid covariance\n",
    "seuc = mass.get_covariance_signal(lmax,add_cmb=[],add_cib=False,add_euc=euc_zbin,add_lss=0)\n",
    "neuc = mass.get_covariance_noise(lmax,frac=frac,add_cmb=[],add_cib=False,add_euc=euc_zbin,add_lss=0)\n",
    "vecs['euc'] = Scov[0,2:2+euc_zbin,:]\n",
    "ocov['euc'] = seuc + neuc"
   ]
  },
  {
   "cell_type": "code",
   "execution_count": 8,
   "id": "9578dfd9-83a5-4bc5-9f85-af84b9d3efd7",
   "metadata": {},
   "outputs": [],
   "source": [
    "# LSST covariance\n",
    "slss = mass.get_covariance_signal(lmax,add_cmb=[],add_cib=False,add_euc=0,add_lss=lss_zbin)\n",
    "nlss = mass.get_covariance_noise(lmax,frac=frac,add_cmb=[],add_cib=False,add_euc=0,add_lss=lss_zbin)\n",
    "vecs['lss'] = Scov[0,2+euc_zbin:2+euc_zbin+lss_zbin,:]\n",
    "ocov['lss'] = slss + nlss"
   ]
  },
  {
   "cell_type": "code",
   "execution_count": 9,
   "id": "f745ce88-deb6-4ef2-a69b-9719184eef25",
   "metadata": {},
   "outputs": [],
   "source": [
    "# gal covariance\n",
    "sgal = mass.get_covariance_signal(lmax,add_cmb=[],add_cib=False,add_euc=euc_zbin,add_lss=lss_zbin)\n",
    "ngal = mass.get_covariance_noise(lmax,frac=frac,add_cmb=[],add_cib=False,add_euc=euc_zbin,add_lss=lss_zbin)\n",
    "vecs['gal'] = Scov[0,2:2+euc_zbin+lss_zbin,:]\n",
    "ocov['gal'] = sgal + ngal"
   ]
  },
  {
   "cell_type": "code",
   "execution_count": 10,
   "id": "83c6fc26-4605-4b19-abde-4084658ce86a",
   "metadata": {},
   "outputs": [],
   "source": [
    "# cib+gal covariance\n",
    "sext = mass.get_covariance_signal(lmax,add_cmb=[],add_euc=euc_zbin,add_lss=lss_zbin)\n",
    "next = mass.get_covariance_noise(lmax,frac=frac,add_cmb=[],add_euc=euc_zbin,add_lss=lss_zbin)\n",
    "vecs['ext'] = Scov[0,1:2+euc_zbin+lss_zbin,:]\n",
    "ocov['ext'] = sext + next"
   ]
  },
  {
   "cell_type": "code",
   "execution_count": 11,
   "id": "bd4e31de-92cb-4ddc-97ba-cc21d8b88b34",
   "metadata": {},
   "outputs": [],
   "source": [
    "icov = {}\n",
    "rho  = {}\n",
    "for t in ['cib','euc','lss','gal','ext']:\n",
    "    icov[t] = ocov[t].copy()\n",
    "    icov[t][:,:,1:] = np.array( [ np.linalg.inv(ocov[t][:,:,l]) for l in range(1,lmax+1) ] ).T\n",
    "    rho[t] = np.array( [ np.dot( vecs[t][:,l], np.dot( icov[t][:,:,l], vecs[t][:,l] ) ) for l in range(lmax+1) ] ) / ( camb_cls['klbklb'][:lmax+1] + 1e-30 )"
   ]
  },
  {
   "cell_type": "code",
   "execution_count": 12,
   "id": "11e882ae-e6eb-4f56-af8e-0dac2cbf5529",
   "metadata": {},
   "outputs": [
    {
     "data": {
      "text/plain": [
       "<matplotlib.legend.Legend at 0x2aaae825bef0>"
      ]
     },
     "execution_count": 12,
     "metadata": {},
     "output_type": "execute_result"
    },
    {
     "data": {
      "image/png": "[encoded data removed]",
      "text/plain": [
       "<Figure size 432x288 with 1 Axes>"
      ]
     },
     "metadata": {
      "needs_background": "light"
     },
     "output_type": "display_data"
    }
   ],
   "source": [
    "xlim(8,2000)\n",
    "ylim(0,1)\n",
    "xscale('log')\n",
    "for t in ['euc','lss','cib','gal','ext']:\n",
    "    if t=='LSS': \n",
    "        ls='--'\n",
    "    else:\n",
    "        ls = '-'\n",
    "    plot(l, np.sqrt(rho[t]),label=t,ls=ls)\n",
    "legend()"
   ]
  },
  {
   "cell_type": "code",
   "execution_count": null,
   "id": "0041e725-e9f2-4db1-9d07-d47c2c388a9d",
   "metadata": {},
   "outputs": [],
   "source": []
  }
 ],
 "metadata": {
  "kernelspec": {
   "display_name": "Python 3",
   "language": "python",
   "name": "python3"
  },
  "language_info": {
   "codemirror_mode": {
    "name": "ipython",
    "version": 3
   },
   "file_extension": ".py",
   "mimetype": "text/x-python",
   "name": "python",
   "nbconvert_exporter": "python",
   "pygments_lexer": "ipython3",
   "version": "3.7.2"
  }
 },
 "nbformat": 4,
 "nbformat_minor": 5
}
