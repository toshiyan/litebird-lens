{
 "cells": [
  {
   "cell_type": "code",
   "execution_count": 1,
   "id": "b29751cc-d525-43f5-add2-9f00db1463ee",
   "metadata": {},
   "outputs": [],
   "source": [
    "import numpy as np, tools_multitracer as mass\n",
    "from scipy import linalg\n",
    "from matplotlib.pyplot import *"
   ]
  },
  {
   "cell_type": "code",
   "execution_count": 9,
   "id": "7923204d-8db1-428f-bf28-8c78aed84901",
   "metadata": {},
   "outputs": [],
   "source": [
    "lmax = 2048\n",
    "euc_zbin = 5\n",
    "lss_zbin = 5"
   ]
  },
  {
   "cell_type": "code",
   "execution_count": 10,
   "id": "61d159c8-3954-4974-bcad-61f1a6193d73",
   "metadata": {},
   "outputs": [],
   "source": [
    "# for cross spectrum\n",
    "cov = mass.get_covariance_signal(lmax,add_cmb=['klb'],add_euc=euc_zbin,add_lss=lss_zbin)"
   ]
  },
  {
   "cell_type": "code",
   "execution_count": 11,
   "id": "1794b441-ef3b-48fd-9c2a-b750770d57c2",
   "metadata": {},
   "outputs": [],
   "source": [
    "klist = mass.tracer_list(add_cmb=['klb'],add_euc=euc_zbin, add_lss=lss_zbin)"
   ]
  },
  {
   "cell_type": "code",
   "execution_count": 12,
   "id": "2f44b3e4-833e-4e78-99d0-19be53924b02",
   "metadata": {},
   "outputs": [],
   "source": [
    "Cov = cov.copy()\n",
    "for l in range(2,lmax+1):\n",
    "    for I, m0 in klist.items():\n",
    "        for J, m1 in klist.items():\n",
    "            if J<I: continue\n",
    "            Cov[I,J,l] = cov[I,J,l]/np.sqrt(cov[I,I,l]*cov[J,J,l])"
   ]
  },
  {
   "cell_type": "code",
   "execution_count": 13,
   "id": "b9662c65-da0b-49f0-930f-29bae1bdd039",
   "metadata": {},
   "outputs": [],
   "source": [
    "sCov = Cov.copy()\n",
    "sCov[:,:,2:] = np.array( [ Cov[:,:,l] + Cov[:,:,l].T - np.diag(Cov[:,:,l].diagonal()) for l in range(2,lmax+1) ] ).T"
   ]
  },
  {
   "cell_type": "code",
   "execution_count": 14,
   "id": "07d6fe5c-9959-44a8-9cfc-d56d2b5d8ec5",
   "metadata": {},
   "outputs": [
    {
     "name": "stdout",
     "output_type": "stream",
     "text": [
      "[2.40294296e-07 1.00000000e+00 3.75759710e-08 7.74698380e-08\n",
      " 9.58311985e-08 1.09886021e-07 1.34469633e-07 1.81505856e-08\n",
      " 4.01100809e-08 7.39919185e-08 8.88487801e-08 9.82048123e-08]\n",
      "[2.40294296e-07 1.00000000e+00 3.75759710e-08 7.74698380e-08\n",
      " 9.58311985e-08 1.09886021e-07 1.34469633e-07 1.81505856e-08\n",
      " 4.01100809e-08 7.39919185e-08 8.88487801e-08 9.82048123e-08]\n",
      "(12, 12, 2049)\n"
     ]
    }
   ],
   "source": [
    "print(sCov[:,1,11])\n",
    "print(sCov[1,:,11])\n",
    "print(np.shape(sCov))"
   ]
  },
  {
   "cell_type": "code",
   "execution_count": 15,
   "id": "6b47f6d8-d42e-4b9a-bd00-fe6a0e6a02b3",
   "metadata": {},
   "outputs": [],
   "source": [
    "L = np.array( [ linalg.cholesky(sCov[:,:,l])[0] for l in range(2,lmax+1) ] )"
   ]
  },
  {
   "cell_type": "code",
   "execution_count": null,
   "id": "ff433095-8531-4f80-8278-75689988ace8",
   "metadata": {},
   "outputs": [],
   "source": []
  }
 ],
 "metadata": {
  "kernelspec": {
   "display_name": "Python 3",
   "language": "python",
   "name": "python3"
  },
  "language_info": {
   "codemirror_mode": {
    "name": "ipython",
    "version": 3
   },
   "file_extension": ".py",
   "mimetype": "text/x-python",
   "name": "python",
   "nbconvert_exporter": "python",
   "pygments_lexer": "ipython3",
   "version": "3.7.2"
  }
 },
 "nbformat": 4,
 "nbformat_minor": 5
}
