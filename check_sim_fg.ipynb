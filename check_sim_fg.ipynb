{
 "cells": [
  {
   "cell_type": "code",
   "execution_count": 1,
   "metadata": {},
   "outputs": [],
   "source": [
    "import numpy as np\n",
    "import healpy as hp\n",
    "from matplotlib.pyplot import *\n",
    "import tqdm\n",
    "# from cmblensplus/wrap/\n",
    "import basic\n",
    "import curvedsky as cs\n",
    "# from cmblensplus/utils/\n",
    "import plottools as pl\n",
    "import maptools\n",
    "import constant as c\n",
    "import cmb\n",
    "# others\n",
    "import local\n",
    "import tools_cmb\n",
    "import tools_multitracer as mass\n",
    "import warnings\n",
    "warnings.filterwarnings(\"ignore\")"
   ]
  },
  {
   "cell_type": "code",
   "execution_count": 2,
   "metadata": {},
   "outputs": [],
   "source": [
    "def compute_clfg(pobj,rlz,M,lmax,NSIDE=64,method=0):\n",
    "    Q = hp.read_map(pobj.ffgs[rlz],field=1)/c.Tcmb\n",
    "    U = hp.read_map(pobj.ffgs[rlz],field=2)/c.Tcmb\n",
    "    Q = hp.ud_grade( Q, NSIDE )\n",
    "    U = hp.ud_grade( U, NSIDE )\n",
    "    if method == 0:\n",
    "        Elm, Blm = cs.utils.hp_map2alm_spin(NSIDE,lmax,lmax,2,Q,U)\n",
    "        QB, UB = cs.utils.hp_alm2map_spin(NSIDE,lmax,lmax,2,0*Elm,Blm)\n",
    "        Elm, Blm = cs.utils.hp_map2alm_spin(NSIDE,lmax,lmax,2,M*QB,M*UB)\n",
    "    if method == 1:\n",
    "        Elm, Blm = cs.utils.hp_map2alm_spin(NSIDE,lmax,lmax,2,M*Q,M*U)\n",
    "    return cs.utils.alm2cl(lmax,Blm)"
   ]
  },
  {
   "cell_type": "code",
   "execution_count": 3,
   "metadata": {},
   "outputs": [],
   "source": [
    "# define parameters\n",
    "lmax  = 190     # maximum multipole of alm to be generated\n",
    "NSIDE = 128\n",
    "l = np.linspace(0,lmax,lmax+1)\n",
    "fac = l*(l+1)/2/np.pi*c.Tcmb**2\n",
    "wl = hp.sphtfunc.pixwin(NSIDE,lmax=lmax)\n",
    "bl = cmb.beam(80.,lmax)"
   ]
  },
  {
   "cell_type": "markdown",
   "metadata": {},
   "source": [
    "### Read galaxy survey mask"
   ]
  },
  {
   "cell_type": "code",
   "execution_count": 4,
   "metadata": {},
   "outputs": [],
   "source": [
    "pobj = local.analysis()"
   ]
  },
  {
   "cell_type": "code",
   "execution_count": 5,
   "metadata": {},
   "outputs": [
    {
     "name": "stdout",
     "output_type": "stream",
     "text": [
      "0.46264096931410165\n"
     ]
    }
   ],
   "source": [
    "M = hp.ud_grade(hp.read_map('../data/lensing/FG_mask.fits'),NSIDE)\n",
    "W = cs.utils.apodize(NSIDE, M, 1.)\n",
    "#W = M.copy()\n",
    "W2 = np.mean(W**2)\n",
    "print(W2)"
   ]
  },
  {
   "cell_type": "code",
   "execution_count": 6,
   "metadata": {},
   "outputs": [
    {
     "name": "stderr",
     "output_type": "stream",
     "text": [
      "100%|██████████| 10/10 [00:01<00:00,  6.93it/s]\n"
     ]
    }
   ],
   "source": [
    "simn = 10\n",
    "BB0 = np.zeros((simn,lmax+1))\n",
    "BB1 = np.zeros((simn,lmax+1))\n",
    "for rlz in tqdm.tqdm(range(1,simn+1)):\n",
    "    BB0[rlz-1] = compute_clfg(pobj,rlz,W,lmax,NSIDE=NSIDE)\n",
    "    BB1[rlz-1] = compute_clfg(pobj,rlz,W,lmax,NSIDE=NSIDE,method=1)\n",
    "mBB0 = np.mean(BB0,axis=0)\n",
    "mBB1 = np.mean(BB1,axis=0)"
   ]
  },
  {
   "cell_type": "code",
   "execution_count": 7,
   "metadata": {},
   "outputs": [
    {
     "data": {
      "text/plain": [
       "[<matplotlib.lines.Line2D at 0x2aaae6d7e240>]"
      ]
     },
     "execution_count": 7,
     "metadata": {},
     "output_type": "execute_result"
    },
    {
     "data": {
      "image/png": "[encoded data removed]",
      "text/plain": [
       "<Figure size 432x288 with 1 Axes>"
      ]
     },
     "metadata": {
      "needs_background": "light"
     },
     "output_type": "display_data"
    }
   ],
   "source": [
    "xlim(2,200)\n",
    "ylim(1e-7,1e-1)\n",
    "loglog(l,fac*pobj.clfg[:lmax+1],label='noise',color='k',ls='--')\n",
    "loglog(l,fac*mBB0/W2/wl**2*bl**2)\n",
    "loglog(l,fac*mBB1/W2/wl**2*bl**2)"
   ]
  },
  {
   "cell_type": "code",
   "execution_count": null,
   "metadata": {},
   "outputs": [],
   "source": []
  }
 ],
 "metadata": {
  "kernelspec": {
   "display_name": "py4so",
   "language": "python",
   "name": "py4so"
  },
  "language_info": {
   "codemirror_mode": {
    "name": "ipython",
    "version": 3
   },
   "file_extension": ".py",
   "mimetype": "text/x-python",
   "name": "python",
   "nbconvert_exporter": "python",
   "pygments_lexer": "ipython3",
   "version": "3.7.2"
  }
 },
 "nbformat": 4,
 "nbformat_minor": 4
}
