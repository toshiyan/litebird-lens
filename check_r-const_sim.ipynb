{
 "cells": [
  {
   "cell_type": "code",
   "execution_count": 1,
   "metadata": {},
   "outputs": [],
   "source": [
    "import numpy as np\n",
    "import healpy as hp\n",
    "from matplotlib.pyplot import *\n",
    "from scipy.optimize import curve_fit\n",
    "import pickle\n",
    "# from cmblensplus/wrap/\n",
    "import curvedsky as cs\n",
    "# from cmblensplus/utils/\n",
    "import cmb as CMB\n",
    "import plottools as pl\n",
    "import constant as c\n",
    "import analysis as ana\n",
    "import binning as bn\n",
    "# others\n",
    "import local\n",
    "import tools_multitracer as mass\n",
    "import tools_delens\n",
    "import tools_cmb\n",
    "import warnings\n",
    "warnings.filterwarnings(\"ignore\")"
   ]
  },
  {
   "cell_type": "code",
   "execution_count": 2,
   "metadata": {},
   "outputs": [
    {
     "data": {
      "text/plain": [
       "<module 'tools_delens' from '/global/u1/t/toshiyan/Work/Ongoing/litebird/project-lens/tools_delens.py'>"
      ]
     },
     "execution_count": 2,
     "metadata": {},
     "output_type": "execute_result"
    }
   ],
   "source": [
    "import importlib\n",
    "importlib.reload(tools_delens)"
   ]
  },
  {
   "cell_type": "code",
   "execution_count": 3,
   "metadata": {},
   "outputs": [],
   "source": [
    "def pdf_gauss(xs, amp, mean, sigma):\n",
    "    return amp*np.exp(-(xs-mean)**2/(2*sigma**2))"
   ]
  },
  {
   "cell_type": "code",
   "execution_count": 235,
   "metadata": {},
   "outputs": [],
   "source": [
    "simn = 500\n",
    "num = 500\n",
    "lbmin, lbmax = 2, 190\n",
    "bN = 20\n",
    "#area = 'lbonly'\n",
    "area = 'lbfull'\n",
    "#area = 'lbs4'\n",
    "wmass = 3\n",
    "method = 'cinv'\n",
    "#method = 'bonly'"
   ]
  },
  {
   "cell_type": "code",
   "execution_count": 236,
   "metadata": {},
   "outputs": [],
   "source": [
    "pobj = local.analysis()\n",
    "cobj = tools_cmb.cmb_map()\n",
    "dobj = tools_delens.filename(method=method)"
   ]
  },
  {
   "cell_type": "code",
   "execution_count": 237,
   "metadata": {},
   "outputs": [
    {
     "name": "stdout",
     "output_type": "stream",
     "text": [
      "0.48313407887083787\n"
     ]
    }
   ],
   "source": [
    "mask = tools_cmb.prepare_masks()\n",
    "Fsky = {m: np.average(mask[m]) for m in tools_cmb.masks}\n",
    "fsky = Fsky[area]\n",
    "print(fsky)\n",
    "mb = bn.multipole_binning(bN,lmin=lbmin,lmax=lbmax,lstart=lbmin,spc='')\n",
    "L = np.linspace(0,lbmax,lbmax+1)"
   ]
  },
  {
   "cell_type": "code",
   "execution_count": 238,
   "metadata": {},
   "outputs": [],
   "source": [
    "Ol = np.zeros((simn,lbmax+1-lbmin))\n",
    "Rl = np.zeros((simn,lbmax+1-lbmin))\n",
    "Ll = np.zeros((simn,lbmax+1-lbmin))\n",
    "Xl = np.zeros((simn,lbmax+1-lbmin))\n",
    "Ob = np.zeros((simn,bN))\n",
    "Rb = np.zeros((simn,bN))\n",
    "Lb = np.zeros((simn,bN))\n",
    "Xb = np.zeros((simn,bN))\n",
    "for rlz in range(1,simn+1):\n",
    "    obb, rbb, lbb, xbb = np.loadtxt(dobj.cl[area][wmass][rlz],usecols=(0,1,2,3),unpack=True)[:,lbmin:lbmax+1]\n",
    "    Ol[rlz-1,:] = obb/fsky\n",
    "    Rl[rlz-1,:] = rbb/fsky\n",
    "    Ll[rlz-1,:] = lbb/fsky\n",
    "    Xl[rlz-1,:] = xbb/fsky\n",
    "    Ob[rlz-1,:] = bn.binning(obb,mb)/fsky\n",
    "    Rb[rlz-1,:] = bn.binning(rbb,mb)/fsky\n",
    "    Lb[rlz-1,:] = bn.binning(lbb,mb)/fsky\n",
    "    Xb[rlz-1,:] = bn.binning(xbb,mb)/fsky"
   ]
  },
  {
   "cell_type": "code",
   "execution_count": 239,
   "metadata": {},
   "outputs": [],
   "source": [
    "mOl = np.mean(Ol,axis=0)\n",
    "mRl = np.mean(Rl,axis=0)\n",
    "mLl = np.mean(Ll,axis=0)\n",
    "mXl = np.mean(Xl,axis=0)\n",
    "mOb = np.mean(Ob,axis=0)\n",
    "mRb = np.mean(Rb,axis=0)\n",
    "mLb = np.mean(Lb,axis=0)\n",
    "mXb = np.mean(Xb,axis=0)\n",
    "mAl = mXl/mLl\n",
    "mAb = mXb/mLb"
   ]
  },
  {
   "cell_type": "code",
   "execution_count": 240,
   "metadata": {},
   "outputs": [],
   "source": [
    "Dl = Ol - 2*mAl*Xl + mAl**2*Ll\n",
    "Db = Ob - 2*mAb*Xb + mAb**2*Lb\n",
    "mDl = np.mean(Dl,axis=0)"
   ]
  },
  {
   "cell_type": "code",
   "execution_count": 241,
   "metadata": {},
   "outputs": [
    {
     "data": {
      "text/plain": [
       "<matplotlib.legend.Legend at 0x15551a7f2b70>"
      ]
     },
     "execution_count": 241,
     "metadata": {},
     "output_type": "execute_result"
    },
    {
     "data": {
      "image/png": "[encoded data removed]",
      "text/plain": [
       "<Figure size 432x288 with 1 Axes>"
      ]
     },
     "metadata": {
      "needs_background": "light"
     },
     "output_type": "display_data"
    }
   ],
   "source": [
    "xlim(2,lbmax)\n",
    "ylim(1e-6,1e-1)\n",
    "Lfac = c.Tcmb**2*L[lbmin:]*(L[lbmin:]+1)/(2*np.pi)\n",
    "loglog(L[lbmin:],Lfac*mOl)\n",
    "#loglog(L[lbmin:],Lfac*mXl)\n",
    "#loglog(L[lbmin:],Lfac*mLl)\n",
    "loglog(L[lbmin:],Lfac*mDl)\n",
    "loglog(L[lbmin:],Lfac*mRl*0.00461)\n",
    "loglog(L[lbmin:],Lfac*pobj.clfg[lbmin:lbmax+1])\n",
    "loglog(L[lbmin:],Lfac*pobj.lcl[2][lbmin:lbmax+1],label='lensing',color='k',ls='--')\n",
    "loglog(L[lbmin:],Lfac*pobj.tcl[2][lbmin:lbmax+1]*0.00461,label='r=0.00461',color='k',ls='-.')\n",
    "legend()"
   ]
  },
  {
   "cell_type": "code",
   "execution_count": 242,
   "metadata": {},
   "outputs": [],
   "source": [
    "rs = np.arange(-7e-3+40*5e-5,7e-3,5e-5)\n",
    "#rs = np.arange(0.,7e-3,5e-5)\n",
    "x = 1e3*rs"
   ]
  },
  {
   "cell_type": "code",
   "execution_count": 243,
   "metadata": {},
   "outputs": [],
   "source": [
    "lnLo = np.zeros((num,len(rs)))\n",
    "lnLd = np.zeros((num,len(rs)))\n",
    "for rlz in range(num):\n",
    "    obb0, lbb0, xbb0 = np.loadtxt(dobj.cl[area][wmass][simn+rlz+1],usecols=(0,2,3),unpack=True)[:,lbmin:lbmax+1]\n",
    "    oOb = bn.binning(obb0/fsky,mb)\n",
    "    oDb = oOb - 2*mAb*bn.binning(xbb0/fsky,mb) + mAb**2*bn.binning(lbb0/fsky,mb)\n",
    "    lnLo[rlz,:] = tools_delens.compute_HL_r(oOb,Ob,mRb,rs)\n",
    "    lnLd[rlz,:] = tools_delens.compute_HL_r(oDb,Db,mRb,rs)\n",
    "    #if np.isnan(np.sum(lnLo[rlz,:])): print(rlz,lnLo[rlz,:])\n",
    "    #if np.isnan(np.sum(lnLd[rlz,:])): print(rlz,lnLd[rlz,:])"
   ]
  },
  {
   "cell_type": "code",
   "execution_count": 244,
   "metadata": {},
   "outputs": [],
   "source": [
    "osigma = np.zeros((num,3))\n",
    "dsigma = np.zeros((num,3))\n",
    "for rlz in range(num):\n",
    "    #osigma[rlz,0] = rs[ np.argmax( np.exp(lnLo[rlz]-np.max(lnLo[rlz])) ) ]\n",
    "    #dsigma[rlz,0] = rs[ np.argmax( np.exp(lnLd[rlz]-np.max(lnLd[rlz])) ) ]\n",
    "    osigma[rlz,:], __ = curve_fit(pdf_gauss, x, np.exp(lnLo[rlz]-np.max(lnLo[rlz])) )\n",
    "    dsigma[rlz,:], __ = curve_fit(pdf_gauss, x, np.exp(lnLd[rlz]-np.max(lnLd[rlz])) )"
   ]
  },
  {
   "cell_type": "code",
   "execution_count": 245,
   "metadata": {},
   "outputs": [
    {
     "name": "stdout",
     "output_type": "stream",
     "text": [
      "[0.96612208 0.16591006 1.16158263]\n",
      "[0.95414106 0.21127234 1.05566915]\n",
      "1.3564565358406302\n",
      "1.3591899048759073\n"
     ]
    }
   ],
   "source": [
    "print(np.mean(osigma,axis=0))\n",
    "print(np.mean(dsigma,axis=0))\n",
    "print(np.std(osigma[:,1]))\n",
    "print(np.std(dsigma[:,1]))"
   ]
  },
  {
   "cell_type": "code",
   "execution_count": 246,
   "metadata": {},
   "outputs": [],
   "source": [
    "resto = np.zeros(num)\n",
    "restd = np.zeros(num)\n",
    "for rlz in range(num):\n",
    "    obb0, lbb0, xbb0 = np.loadtxt(dobj.cl[area][wmass][simn+rlz+1],usecols=(0,2,3),unpack=True)[:,lbmin:lbmax+1]\n",
    "    oOb = bn.binning(obb0/fsky,mb)\n",
    "    oDb = oOb - 2*mAb*bn.binning(xbb0/fsky,mb) + mAb**2*bn.binning(lbb0/fsky,mb)\n",
    "    resto[rlz] = tools_delens.simple_r(oOb,Ob,mRb)\n",
    "    restd[rlz] = tools_delens.simple_r(oDb,Db,mRb)"
   ]
  },
  {
   "cell_type": "code",
   "execution_count": 247,
   "metadata": {},
   "outputs": [
    {
     "name": "stdout",
     "output_type": "stream",
     "text": [
      "0.0013281859155401424\n",
      "0.0012438686054539086\n"
     ]
    }
   ],
   "source": [
    "print(np.std(resto))\n",
    "print(np.std(restd))"
   ]
  },
  {
   "cell_type": "code",
   "execution_count": 179,
   "metadata": {},
   "outputs": [],
   "source": [
    "if area == 'lbonly':\n",
    "    Resto = {}\n",
    "    Restd = {}\n",
    "    Resto['lbonly'] = resto\n",
    "    Restd['lbonly'] = restd"
   ]
  },
  {
   "cell_type": "code",
   "execution_count": 180,
   "metadata": {},
   "outputs": [],
   "source": [
    "if area == 'lbs4':\n",
    "    Resto['lbs4'] = resto\n",
    "    Restd['lbs4'] = restd"
   ]
  },
  {
   "cell_type": "code",
   "execution_count": 181,
   "metadata": {},
   "outputs": [],
   "source": [
    "Rest_o = (Resto['lbs4']/np.std(Resto['lbs4'])**2 + Resto['lbonly']/np.std(Resto['lbonly'])**2)/(1./np.std(Resto['lbs4'])**2 + 1./np.std(Resto['lbonly'])**2)\n",
    "Rest_d = (Restd['lbs4']/np.std(Restd['lbs4'])**2 + Restd['lbonly']/np.std(Restd['lbonly'])**2)/(1./np.std(Restd['lbs4'])**2 + 1./np.std(Restd['lbonly'])**2)"
   ]
  },
  {
   "cell_type": "code",
   "execution_count": 182,
   "metadata": {},
   "outputs": [
    {
     "name": "stdout",
     "output_type": "stream",
     "text": [
      "0.001384702271975309\n",
      "0.0011778083677842584\n"
     ]
    }
   ],
   "source": [
    "print(np.std(Rest_o))\n",
    "print(np.std(Rest_d))"
   ]
  },
  {
   "cell_type": "code",
   "execution_count": 66,
   "metadata": {},
   "outputs": [
    {
     "name": "stdout",
     "output_type": "stream",
     "text": [
      "1.3376561456213525\n",
      "1.284759449154916\n"
     ]
    },
    {
     "data": {
      "text/plain": [
       "<matplotlib.legend.Legend at 0x15551be21da0>"
      ]
     },
     "execution_count": 66,
     "metadata": {},
     "output_type": "execute_result"
    },
    {
     "data": {
      "image/png": "[encoded data removed]",
      "text/plain": [
       "<Figure size 432x288 with 1 Axes>"
      ]
     },
     "metadata": {
      "needs_background": "light"
     },
     "output_type": "display_data"
    }
   ],
   "source": [
    "#xlim(-7,7)\n",
    "rlz = 7\n",
    "ylim(0,1)\n",
    "Po = np.exp(lnLo[rlz]-np.max(lnLo[rlz]))\n",
    "Pd = np.exp(lnLd[rlz]-np.max(lnLd[rlz]))\n",
    "popto, __ = curve_fit(pdf_gauss, x, Po)\n",
    "print(popto[2])\n",
    "poptd, __ = curve_fit(pdf_gauss, x, Pd)\n",
    "print(poptd[2])\n",
    "plot(x,Po,label='no delensing',color='b')\n",
    "plot(x,pdf_gauss(x, popto[0], popto[1], popto[2]),color='b',ls='--')\n",
    "plot(x,Pd,label='delensing',color='m')\n",
    "plot(x,pdf_gauss(x, poptd[0], poptd[1], poptd[2]),color='m',ls='--')\n",
    "legend()"
   ]
  },
  {
   "cell_type": "code",
   "execution_count": null,
   "metadata": {},
   "outputs": [],
   "source": []
  }
 ],
 "metadata": {
  "kernelspec": {
   "display_name": "py4so",
   "language": "python",
   "name": "py4so"
  },
  "language_info": {
   "codemirror_mode": {
    "name": "ipython",
    "version": 3
   },
   "file_extension": ".py",
   "mimetype": "text/x-python",
   "name": "python",
   "nbconvert_exporter": "python",
   "pygments_lexer": "ipython3",
   "version": "3.7.2"
  }
 },
 "nbformat": 4,
 "nbformat_minor": 4
}
