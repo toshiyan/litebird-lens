{
 "cells": [
  {
   "cell_type": "code",
   "execution_count": 16,
   "metadata": {},
   "outputs": [],
   "source": [
    "import numpy as np, basic, local, plottools as pl, tools_cmb\n",
    "from matplotlib.pyplot import *"
   ]
  },
  {
   "cell_type": "code",
   "execution_count": 25,
   "metadata": {},
   "outputs": [],
   "source": [
    "cobj = tools_cmb.cmb_anisotropies(t='id')\n",
    "l, TT, EE, BB = np.loadtxt(cobj.fmcl['com']['s'],unpack=True,usecols=(0,1,2,3))[:,:cobj.lmax+1]\n",
    "l, TN, EN, BN = np.loadtxt(cobj.fmcl['com']['n'],unpack=True,usecols=(0,1,2,3))[:,:cobj.lmax+1]"
   ]
  },
  {
   "cell_type": "code",
   "execution_count": 26,
   "metadata": {},
   "outputs": [
    {
     "data": {
      "text/plain": [
       "[<matplotlib.lines.Line2D at 0x2aaae77b1eb8>]"
      ]
     },
     "execution_count": 26,
     "metadata": {},
     "output_type": "execute_result"
    },
    {
     "data": {
      "image/png": "[encoded data removed]",
      "text/plain": [
       "<Figure size 432x288 with 1 Axes>"
      ]
     },
     "metadata": {
      "needs_background": "light"
     },
     "output_type": "display_data"
    }
   ],
   "source": [
    "# TT\n",
    "#pl.plot_1dstyle(xmin=2,xmax=2048,ylab='$L^3C_L^{TT}$',ylog=True,ymin=1e-13,ymax=1e-7)\n",
    "plot(l,l**2*TT)\n",
    "#plot(l,l**2*EE*2.72e6**2)\n",
    "plot(l,l**2*TN)\n",
    "#legend()"
   ]
  },
  {
   "cell_type": "code",
   "execution_count": null,
   "metadata": {},
   "outputs": [],
   "source": []
  }
 ],
 "metadata": {
  "kernelspec": {
   "display_name": "py4so",
   "language": "python",
   "name": "py4so"
  },
  "language_info": {
   "codemirror_mode": {
    "name": "ipython",
    "version": 3
   },
   "file_extension": ".py",
   "mimetype": "text/x-python",
   "name": "python",
   "nbconvert_exporter": "python",
   "pygments_lexer": "ipython3",
   "version": "3.7.2"
  }
 },
 "nbformat": 4,
 "nbformat_minor": 4
}
