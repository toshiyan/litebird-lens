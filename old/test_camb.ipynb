{
 "cells": [
  {
   "cell_type": "code",
   "execution_count": 2,
   "id": "b29751cc-d525-43f5-add2-9f00db1463ee",
   "metadata": {},
   "outputs": [],
   "source": [
    "import numpy as np, basic, cosmology\n",
    "#from scipy.integrate import quad\n",
    "from matplotlib.pyplot import *\n",
    "#from scipy.interpolate import InterpolatedUnivariateSpline as spline\n",
    "import camb\n",
    "from camb import model, initialpower\n",
    "from camb.sources import GaussianSourceWindow, SplinedSourceWindow"
   ]
  },
  {
   "cell_type": "code",
   "execution_count": 3,
   "id": "810bbefd-af7c-441f-abfe-4c8a4a896310",
   "metadata": {},
   "outputs": [],
   "source": [
    "lmax = 3000\n",
    "l =  np.arange(0, lmax+1)"
   ]
  },
  {
   "cell_type": "code",
   "execution_count": 19,
   "id": "123e1b63-e2b0-4389-be51-fd6f4f8831fe",
   "metadata": {},
   "outputs": [],
   "source": [
    "pars = camb.CAMBparams()\n",
    "pars.set_cosmology(H0=67.5, ombh2=0.022, omch2=0.122)\n",
    "pars.InitPower.set_params(As=2e-9, ns=0.965)\n",
    "#set Want_CMB to true if you also want CMB spectra or correlations\n",
    "pars.Want_CMB = False\n",
    "#NonLinear_both or NonLinear_lens will use non-linear corrections\n",
    "pars.NonLinear = model.NonLinear_both\n",
    "#Set up W(z) window functions\n",
    "z0=0.311\n",
    "zs = np.arange(0, 10, 0.02)\n",
    "W = np.exp(-zs/z0)*(zs/z0)**2/2/z0\n",
    "bias = 1 + 0.84*zs\n",
    "#bias = np.ones(len(zs))\n",
    "lmax=3000\n",
    "pars.set_for_lmax(lmax, lens_potential_accuracy=5)\n",
    "pars.SourceWindows = [ SplinedSourceWindow( z=zs, W=W, dlog10Ndm=.0, bias_z=bias ) ]"
   ]
  },
  {
   "cell_type": "code",
   "execution_count": 20,
   "id": "49a95c87-59db-4844-a9d9-dbf7e72b7aa7",
   "metadata": {},
   "outputs": [
    {
     "name": "stdout",
     "output_type": "stream",
     "text": [
      "0: <SplinedSourceWindow>\n",
      "  source_type = counts\n",
      "  bias = 1.0\n",
      "  dlog10Ndm = 0.0\n",
      "\n"
     ]
    }
   ],
   "source": [
    "print(pars.SourceWindows)"
   ]
  },
  {
   "cell_type": "code",
   "execution_count": 21,
   "id": "28187fc0-dad9-434f-8a15-d2bcf791a6c2",
   "metadata": {},
   "outputs": [],
   "source": [
    "results = camb.get_results(pars)\n",
    "cls = results.get_source_cls_dict()"
   ]
  },
  {
   "cell_type": "code",
   "execution_count": 22,
   "id": "193b2eb0-14f1-4fce-b13e-43f01a230b1c",
   "metadata": {},
   "outputs": [],
   "source": [
    "nbar = 40/(np.pi/180/60)**2 # Poission noise\n",
    "ls= np.arange(2,lmax+1)\n",
    "Dnoise = 1/nbar*ls*(ls+1)/2/np.pi"
   ]
  },
  {
   "cell_type": "code",
   "execution_count": 23,
   "id": "6429e102-652f-4494-b674-78cb718f09cb",
   "metadata": {},
   "outputs": [
    {
     "data": {
      "text/plain": [
       "[<matplotlib.lines.Line2D at 0x2aaae98b6d30>]"
      ]
     },
     "execution_count": 23,
     "metadata": {},
     "output_type": "execute_result"
    },
    {
     "data": {
      "image/png": "[encoded data removed]",
      "text/plain": [
       "<Figure size 432x288 with 1 Axes>"
      ]
     },
     "metadata": {
      "needs_background": "light"
     },
     "output_type": "display_data"
    }
   ],
   "source": [
    "xlim(2,lmax)\n",
    "ylim(0.56,0.9)\n",
    "rho = cls['PxW1'][2:lmax+1]/np.sqrt( (cls['W1xW1'][2:lmax+1]+Dnoise)*cls['PxP'][2:lmax+1] )\n",
    "plot(l[2:],rho)"
   ]
  },
  {
   "cell_type": "code",
   "execution_count": null,
   "id": "63b9c905-5e28-491a-8a8e-7eefed653130",
   "metadata": {},
   "outputs": [],
   "source": []
  }
 ],
 "metadata": {
  "kernelspec": {
   "display_name": "Python 3",
   "language": "python",
   "name": "python3"
  },
  "language_info": {
   "codemirror_mode": {
    "name": "ipython",
    "version": 3
   },
   "file_extension": ".py",
   "mimetype": "text/x-python",
   "name": "python",
   "nbconvert_exporter": "python",
   "pygments_lexer": "ipython3",
   "version": "3.7.2"
  }
 },
 "nbformat": 4,
 "nbformat_minor": 5
}
